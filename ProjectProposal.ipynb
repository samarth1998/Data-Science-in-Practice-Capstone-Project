{
 "cells": [
  {
   "cell_type": "markdown",
   "metadata": {},
   "source": [
    "# COGS 108 - Assignment 4: Project Proposal"
   ]
  },
  {
   "cell_type": "markdown",
   "metadata": {},
   "source": [
    "## Important\n",
    "\n",
    "- Make sure all group member (3-5 people) are listed in the group members section.\n",
    "- ONE, and only one, member of your group should upload this notebook to TritonED. \n",
    "- Each member of the group will receive the same grade on this assignment. \n",
    "- Keep the file name the same: submit the file 'A4_ProjectProposal.ipynb'"
   ]
  },
  {
   "cell_type": "markdown",
   "metadata": {},
   "source": [
    "## Overview"
   ]
  },
  {
   "cell_type": "markdown",
   "metadata": {},
   "source": [
    "Read the project description, and detailed instructions for this assignment, in the 'A4_ProjectOutlineAndProposal' pdf."
   ]
  },
  {
   "cell_type": "markdown",
   "metadata": {},
   "source": []
  },
  {
   "cell_type": "markdown",
   "metadata": {},
   "source": [
    "### Research Question\n",
    "\n",
    "What is your research question? (1-2 sentences)"
   ]
  },
  {
   "cell_type": "markdown",
   "metadata": {},
   "source": [
    "Did the 2016 US presidential election cause an increase in 911 calls?"
   ]
  },
  {
   "cell_type": "markdown",
   "metadata": {},
   "source": [
    "### Hypothesis\n",
    "\n",
    "What is your prediction (2-3 sentences)"
   ]
  },
  {
   "cell_type": "markdown",
   "metadata": {},
   "source": [
    "We believe that during the 2016 election season (June 2016 - November 2016), 911 calls will be much greater than they were before. Highly partisan states would show this tendency much more than swing states."
   ]
  },
  {
   "cell_type": "markdown",
   "metadata": {},
   "source": [
    "### Dataset(s)\n",
    "\n",
    "What data will you use to answer your question? Describe the dataset in terms of number of observations, what kind of features it contains, etc. You must use at least one dataset containing at least approximately 1000 observations (if your data are smaller but you feel they are sufficient, email Prof. Voytek). You are welcome (and in fact recommended) to find multiple datasets! If you do so, describe each one, and briefly explain how you will combine them together. "
   ]
  },
  {
   "cell_type": "markdown",
   "metadata": {},
   "source": [
    "*Fill in your dataset information here*\n",
    "\n",
    "(Copy this information for each dataset)\n",
    "- Dataset Name: 911.csv\n",
    "- Link to the dataset: https://www.kaggle.com/mchirico/montcoalert\n",
    "- Number of observations: 188751\n",
    "\n",
    "This dataset gives the time, date, location, and type of call made to 911\n",
    "\n",
    "- Dataset Name: county_facts.csv\n",
    "- Link to the dataset: https://www.kaggle.com/benhamner/2016-us-election\n",
    "- Number of observations: 3195\n",
    "\n",
    "This dataset gives details about populations within the counties in the US\n",
    "\n",
    "We plan on combining these datasets through finding which zip codes correspond to which county, changing the zip code to a county and then combining the datasets together"
   ]
  },
  {
   "cell_type": "markdown",
   "metadata": {},
   "source": [
    "### Background & Prior Work\n",
    "\n",
    "Why is this question of interest, what background information led you to your hypothesis, and why is this important?\n",
    "\n",
    "Find some relevant prior work, and reference them. Even if you think you have a totally novel question, find the most similar prior work you can, and discuss how it relates to your project. \n",
    "\n",
    "References can be research publications, but they need not be: blogs, github repositories, company websites, etc., are viable references if they are relevant to your project.\n",
    "\n",
    "(2-3 paragraphs, including at least 2 references)"
   ]
  },
  {
   "cell_type": "markdown",
   "metadata": {},
   "source": [
    "Politics in the US has been incredibly heated as last year's election cycle went by. The incredibly heated internet climate became even more heated than it used to be. If that alreaady hostile environment had become more hostile, what about how people act in the real world? \n",
    "\n",
    "Our hypothesis is based off of the fact that extremism is associated via connotation with violence. During the past election season, rhetoric spouted was incredibly hostile and served to increase extremism on both sides of the political spectrum. This means that swing states should experience less violence than partisan states since the partisan states would likely contain more people who would be influenced by this sort of rhetoric\n",
    "\n",
    "Referencess (include a link):\n",
    "- 1) Alesina, A., & Holden, R. T. (2008). Ambiguity and extremism in elections. Cambridge, MA: National Bureau of Economic Research. https://roger.ucsd.edu:443/record=b7327705~S9\n",
    "- 2) http://www.nbcnews.com/news/us-news/u-s-hate-crimes-20-percent-2016-fueled-election-campaign-n733306"
   ]
  },
  {
   "cell_type": "markdown",
   "metadata": {},
   "source": [
    "### Proposed Methods\n",
    "\n",
    "What methods will you use to analyze your data?\n",
    "\n",
    "- How 'clean' is the data? To the extent that it requires cleaning, how will you do so?\n",
    "- How will you analyze the data? Be as specific as you can. Briefly mention any pre-processing steps that are required for your methods (for example, checking data distributions and performing any transformations that may be required). Include a brief outline of how you will apply your chosen method(s). \n",
    "- What do you plan to report? Briefly mention any key visualizations you plan to create, and/or the kind of result you will be able to report that addresses your question (this could be, for example, the outcome of some statistical test(s), prediction error on a model, a model fit parameter, etc.).\n",
    "- Include a list of packages you expect to use for you project. If you plan to use packages we have not used in class, add a very brief description about them (a few words is sufficient). "
   ]
  },
  {
   "cell_type": "markdown",
   "metadata": {},
   "source": [
    "*Fill in your proposed methods information here:*\n",
    "\n",
    "*Data Cleaning (2-3 sentences)*\n",
    "\n",
    "Will convert zip codes into counties so that we can see where crimes are taking place. We will also check for \"bad\" data values (such as those with missing data) and remove them as neccessary.\n",
    "\n",
    "*Data Analysis (1-2 paragraphs)*\n",
    "\n",
    "We plan on converting the data into multiple ranges (election season and non-election season). This will give us two different samples to observe. As a result of having two different samples, we can find the average amount of 911 calls per day during each of the previous two  ranges. We can then use an independent samples t-test to see if there was a significant change during the time period.\n",
    "\n",
    "*What to report (2-3 sentences)*\n",
    "\n",
    "We will most likely end up using frequency diagrams to see how the frequency of 911 calls is changing over time. We will do this through plotting out the number of 911 calls per week and section off different parts of the data (pre-election, primaries, national conventions, election week, etc.) to see if the amount of 911 calls is significantly different than it was the year before.\n",
    "\n",
    "Packages we plan to use:\n",
    "- pandas\n",
    "- numpy\n",
    "- plotly - can be used to show number of 911 calls on  a map of the United States\n",
    "- matplotlib"
   ]
  },
  {
   "cell_type": "markdown",
   "metadata": {},
   "source": [
    "### Discussion\n",
    "\n",
    "What are the pitfalls and potential confounds of your data and/or methods? For example, how might biases in your data sources or analyses influence your interpretations? What will you do if you methods don't work and/or your hypotheses are wrong?\n",
    "\n",
    "(2-3 paragraphs)"
   ]
  },
  {
   "cell_type": "markdown",
   "metadata": {},
   "source": [
    "The biggest potential confound in our data would be the presence of natural disastersor other dangerous natural phenomena. Any sort of disaster would cause a spike in 911 calls even though it has no relation to the United States' political environment. To account for this error, we will vet the data if we see any outliers to see if during that time there was some specific reason for there to be such high amounts of calls.\n",
    "\n",
    "If our methods do not work, we will end up modifying our analysis to fit with the error. For example, if we run into some sort of error while converting zip codes into counties, we will try to see if we could instead to zip code to state and county to state. This makes the data more general, which has the downside of being less significant in areas that contain multiple populations."
   ]
  }
 ],
 "metadata": {
  "kernelspec": {
   "display_name": "Python 3",
   "language": "python",
   "name": "python3"
  },
  "language_info": {
   "codemirror_mode": {
    "name": "ipython",
    "version": 3
   },
   "file_extension": ".py",
   "mimetype": "text/x-python",
   "name": "python",
   "nbconvert_exporter": "python",
   "pygments_lexer": "ipython3",
   "version": "3.6.1"
  }
 },
 "nbformat": 4,
 "nbformat_minor": 2
}
